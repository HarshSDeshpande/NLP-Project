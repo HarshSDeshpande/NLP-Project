{
 "cells": [
  {
   "cell_type": "code",
   "execution_count": 1,
   "metadata": {},
   "outputs": [
    {
     "name": "stdout",
     "output_type": "stream",
     "text": [
      "Requirement already satisfied: openai in /home/harsh/miniconda3/envs/NLPproject/lib/python3.12/site-packages (1.54.3)\n",
      "Requirement already satisfied: anyio<5,>=3.5.0 in /home/harsh/miniconda3/envs/NLPproject/lib/python3.12/site-packages (from openai) (4.6.2.post1)\n",
      "Requirement already satisfied: distro<2,>=1.7.0 in /home/harsh/miniconda3/envs/NLPproject/lib/python3.12/site-packages (from openai) (1.9.0)\n",
      "Requirement already satisfied: httpx<1,>=0.23.0 in /home/harsh/miniconda3/envs/NLPproject/lib/python3.12/site-packages (from openai) (0.27.2)\n",
      "Requirement already satisfied: jiter<1,>=0.4.0 in /home/harsh/miniconda3/envs/NLPproject/lib/python3.12/site-packages (from openai) (0.5.0)\n",
      "Requirement already satisfied: pydantic<3,>=1.9.0 in /home/harsh/miniconda3/envs/NLPproject/lib/python3.12/site-packages (from openai) (2.9.2)\n",
      "Requirement already satisfied: sniffio in /home/harsh/miniconda3/envs/NLPproject/lib/python3.12/site-packages (from openai) (1.3.1)\n",
      "Requirement already satisfied: tqdm>4 in /home/harsh/miniconda3/envs/NLPproject/lib/python3.12/site-packages (from openai) (4.66.4)\n",
      "Requirement already satisfied: typing-extensions<5,>=4.11 in /home/harsh/miniconda3/envs/NLPproject/lib/python3.12/site-packages (from openai) (4.12.2)\n",
      "Requirement already satisfied: idna>=2.8 in /home/harsh/miniconda3/envs/NLPproject/lib/python3.12/site-packages (from anyio<5,>=3.5.0->openai) (3.10)\n",
      "Requirement already satisfied: certifi in /home/harsh/miniconda3/envs/NLPproject/lib/python3.12/site-packages (from httpx<1,>=0.23.0->openai) (2024.8.30)\n",
      "Requirement already satisfied: httpcore==1.* in /home/harsh/miniconda3/envs/NLPproject/lib/python3.12/site-packages (from httpx<1,>=0.23.0->openai) (1.0.6)\n",
      "Requirement already satisfied: h11<0.15,>=0.13 in /home/harsh/miniconda3/envs/NLPproject/lib/python3.12/site-packages (from httpcore==1.*->httpx<1,>=0.23.0->openai) (0.14.0)\n",
      "Requirement already satisfied: annotated-types>=0.6.0 in /home/harsh/miniconda3/envs/NLPproject/lib/python3.12/site-packages (from pydantic<3,>=1.9.0->openai) (0.7.0)\n",
      "Requirement already satisfied: pydantic-core==2.23.4 in /home/harsh/miniconda3/envs/NLPproject/lib/python3.12/site-packages (from pydantic<3,>=1.9.0->openai) (2.23.4)\n"
     ]
    }
   ],
   "source": [
    "\n",
    "!pip install openai\n"
   ]
  },
  {
   "cell_type": "code",
   "execution_count": null,
   "metadata": {},
   "outputs": [],
   "source": [
    "import openai\n",
    "import os\n",
    "\n",
    "# Set your OpenAI API key\n",
    "os.environ[\"OPENAI_API_KEY\"] = \"your_api_key\"\n",
    "openai.api_key = os.getenv(\"OPENAI_API_KEY\")  # Or directly set it as a string: \"YOUR_API_KEY\"\n",
    "\n",
    "def convert_to_image_prompt(summary: str, context: str) -> str:\n",
    "    \"\"\"\n",
    "    Converts a text summary into an image prompt using OpenAI's API.\n",
    "    \n",
    "    Args:\n",
    "    - summary (str): The text summary of the welfare scheme section.\n",
    "    - context (str): Context for the image, such as \"Beneficiary and Problem Statement\".\n",
    "    \n",
    "    Returns:\n",
    "    - str: The generated image prompt.\n",
    "    \"\"\"\n",
    "    # Define the prompt to instruct the model to create a visual description\n",
    "    prompt = (\n",
    "        f\"Convert the following text summary into a detailed, descriptive image prompt for \"\n",
    "        f\"a text-to-image generative model. Make sure to include vivid visual elements, \"\n",
    "        f\"colors, expressions, and any relevant scene settings:\\n\\nContext: {context}\\n\\n\"\n",
    "        f\"Summary: {summary}\\n\\nImage prompt:\"\n",
    "    )\n",
    "\n",
    "    response = openai.chat.completions.create(\n",
    "        model=\"gpt-3.5-turbo\",\n",
    "        messages=[\n",
    "            {\"role\": \"system\", \"content\": \"You are a helpful assistant who has to convert a text summary into an image prompt to a generative model.\"},\n",
    "            {\"role\": \"user\", \"content\": prompt}\n",
    "        ],\n",
    "        max_tokens=100,\n",
    "        n=1,\n",
    "        stop=None,\n",
    "        temperature=0.7\n",
    "    )\n",
    "\n",
    "    image_prompt = response.choices[0].message.content\n",
    "    return image_prompt\n"
   ]
  },
  {
   "cell_type": "code",
   "execution_count": 16,
   "metadata": {},
   "outputs": [],
   "source": [
    "def generate_image_prompts(summaries: dict) -> dict:\n",
    "    \"\"\"\n",
    "    Generates image prompts for each summary section.\n",
    "    \n",
    "    Args:\n",
    "    - summaries (dict): Dictionary of summaries for each section.\n",
    "    \n",
    "    Returns:\n",
    "    - dict: Dictionary containing the image prompts for each section.\n",
    "    \"\"\"\n",
    "    image_prompts = {}\n",
    "    for section, summary in summaries.items():\n",
    "        image_prompts[section] = convert_to_image_prompt(summary, section)\n",
    "    \n",
    "    return image_prompts\n"
   ]
  },
  {
   "cell_type": "code",
   "execution_count": 17,
   "metadata": {},
   "outputs": [
    {
     "name": "stdout",
     "output_type": "stream",
     "text": [
      "Beneficiary and Problem Statement Image Prompt:\n",
      "The image prompt for the text-to-image generative model would be a vibrant and heartwarming scene depicting a diverse group of low-income families and children benefiting from a welfare scheme.\n",
      "\n",
      "The setting is a bustling community center filled with families of different ethnicities and backgrounds. In the center of the scene, a kind-hearted social worker is handing out envelopes containing financial support to smiling parents, while children eagerly look on with hopeful expressions.\n",
      "\n",
      "The room is decorated with colorful educational posters and shelves stocked with nutritious food items\n",
      "\n",
      "Application Process and Benefits Image Prompt:\n",
      "The image prompt for the generative model shows a diverse group of families gathered in a bustling, vibrant city square. The scene is filled with colorful market stalls, tall buildings in the background, and a clear blue sky overhead. Families of different races and backgrounds are seen interacting with each other happily.\n",
      "\n",
      "In the center of the square, a large, welcoming application booth is set up with cheerful staff assisting families in filling out forms. The booth is adorned with colorful banners that read \"Family Support Program\" in\n",
      "\n",
      "Outcome and Impact Image Prompt:\n",
      "The image prompt depicts a vibrant and bustling community scene. In the center, a diverse group of smiling children from low-income families are happily playing together in a playground filled with colorful swings, slides, and seesaws. The children are wearing bright, clean clothes and are surrounded by lush greenery and blooming flowers, indicating a sense of prosperity and well-being.\n",
      "\n",
      "In the background, there are adults engaging in various activities that promote community empowerment, such as attending educational workshops, planting community gardens, and participating\n",
      "\n"
     ]
    }
   ],
   "source": [
    "# Example summaries (replace with actual summaries)\n",
    "summaries = {\n",
    "    \"Beneficiary and Problem Statement\": \"Low-income families with children face financial struggles covering basic needs like food and education. The welfare scheme provides financial support, addressing these essential needs to improve their quality of life.\",\n",
    "    \"Application Process and Benefits\": \"Eligible families can apply online or at local offices. Approved applicants receive monthly stipends, healthcare vouchers, and educational grants, aiding with immediate and long-term needs.\",\n",
    "    \"Outcome and Impact\": \"The welfare scheme reduces child poverty and enhances stability for low-income families, promoting health, education, and social empowerment in the community.\"\n",
    "}\n",
    "\n",
    "# Generate image prompts\n",
    "image_prompts = generate_image_prompts(summaries)\n",
    "\n",
    "# Display the image prompts\n",
    "for section, image_prompt in image_prompts.items():\n",
    "    print(f\"{section} Image Prompt:\\n{image_prompt}\\n\")"
   ]
  }
 ],
 "metadata": {
  "kernelspec": {
   "display_name": "NLPproject",
   "language": "python",
   "name": "python3"
  },
  "language_info": {
   "codemirror_mode": {
    "name": "ipython",
    "version": 3
   },
   "file_extension": ".py",
   "mimetype": "text/x-python",
   "name": "python",
   "nbconvert_exporter": "python",
   "pygments_lexer": "ipython3",
   "version": "3.12.7"
  }
 },
 "nbformat": 4,
 "nbformat_minor": 2
}
