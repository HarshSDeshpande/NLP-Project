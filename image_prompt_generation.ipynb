{
 "cells": [
  {
   "cell_type": "code",
   "execution_count": null,
   "metadata": {},
   "outputs": [],
   "source": [
    "# Uncomment if the OpenAI package is not yet installed\n",
    "# !pip install openai\n"
   ]
  },
  {
   "cell_type": "code",
   "execution_count": null,
   "metadata": {},
   "outputs": [],
   "source": [
    "import openai\n",
    "import os\n",
    "\n",
    "# Set your OpenAI API key\n",
    "openai.api_key = os.getenv(\"OPENAI_API_KEY\")  # Or directly set it as a string: \"YOUR_API_KEY\"\n",
    "\n",
    "def convert_to_image_prompt(summary: str, context: str) -> str:\n",
    "    \"\"\"\n",
    "    Converts a text summary into an image prompt using OpenAI's API.\n",
    "    \n",
    "    Args:\n",
    "    - summary (str): The text summary of the welfare scheme section.\n",
    "    - context (str): Context for the image, such as \"Beneficiary and Problem Statement\".\n",
    "    \n",
    "    Returns:\n",
    "    - str: The generated image prompt.\n",
    "    \"\"\"\n",
    "    # Define the prompt to instruct the model to create a visual description\n",
    "    prompt = (\n",
    "        f\"Convert the following text summary into a detailed, descriptive image prompt for \"\n",
    "        f\"a text-to-image generative model. Make sure to include vivid visual elements, \"\n",
    "        f\"colors, expressions, and any relevant scene settings:\\n\\nContext: {context}\\n\\n\"\n",
    "        f\"Summary: {summary}\\n\\nImage prompt:\"\n",
    "    )\n",
    "\n",
    "    response = openai.Completion.create(\n",
    "        engine=\"text-davinci-003\",\n",
    "        prompt=prompt,\n",
    "        max_tokens=100,\n",
    "        n=1,\n",
    "        stop=None,\n",
    "        temperature=0.7\n",
    "    )\n",
    "\n",
    "    image_prompt = response.choices[0].text.strip()\n",
    "    return image_prompt\n"
   ]
  },
  {
   "cell_type": "code",
   "execution_count": null,
   "metadata": {},
   "outputs": [],
   "source": [
    "def generate_image_prompts(summaries: dict) -> dict:\n",
    "    \"\"\"\n",
    "    Generates image prompts for each summary section.\n",
    "    \n",
    "    Args:\n",
    "    - summaries (dict): Dictionary of summaries for each section.\n",
    "    \n",
    "    Returns:\n",
    "    - dict: Dictionary containing the image prompts for each section.\n",
    "    \"\"\"\n",
    "    image_prompts = {}\n",
    "    for section, summary in summaries.items():\n",
    "        image_prompts[section] = convert_to_image_prompt(summary, section)\n",
    "    \n",
    "    return image_prompts\n"
   ]
  },
  {
   "cell_type": "code",
   "execution_count": null,
   "metadata": {},
   "outputs": [],
   "source": [
    "# Example summaries (replace with actual summaries)\n",
    "summaries = {\n",
    "    \"Beneficiary and Problem Statement\": \"Low-income families with children face financial struggles covering basic needs like food and education. The welfare scheme provides financial support, addressing these essential needs to improve their quality of life.\",\n",
    "    \"Application Process and Benefits\": \"Eligible families can apply online or at local offices. Approved applicants receive monthly stipends, healthcare vouchers, and educational grants, aiding with immediate and long-term needs.\",\n",
    "    \"Outcome and Impact\": \"The welfare scheme reduces child poverty and enhances stability for low-income families, promoting health, education, and social empowerment in the community.\"\n",
    "}\n",
    "\n",
    "# Generate image prompts\n",
    "image_prompts = generate_image_prompts(summaries)\n",
    "\n",
    "# Display the image prompts\n",
    "for section, image_prompt in image_prompts.items():\n",
    "    print(f\"{section} Image Prompt:\\n{image_prompt}\\n\")"
   ]
  }
 ],
 "metadata": {
  "language_info": {
   "name": "python"
  }
 },
 "nbformat": 4,
 "nbformat_minor": 2
}
