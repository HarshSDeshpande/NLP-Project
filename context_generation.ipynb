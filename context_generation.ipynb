{
 "cells": [
  {
   "cell_type": "code",
   "execution_count": null,
   "metadata": {},
   "outputs": [],
   "source": [
    "import os\n",
    "import openai\n",
    "\n",
    "os.environ[\"OPENAI_API_KEY\"] = \"your_api_key\"\n",
    "openai.api_key = os.getenv(\"OPENAI_API_KEY\")"
   ]
  },
  {
   "cell_type": "code",
   "execution_count": 2,
   "metadata": {},
   "outputs": [],
   "source": [
    "import os\n",
    "from collections import defaultdict\n",
    "\n",
    "def read_and_group_files(prompts_dir):\n",
    "    grouped_files = defaultdict(list)\n",
    "    \n",
    "    for filename in os.listdir(prompts_dir):\n",
    "        if filename.endswith(\".txt\"):\n",
    "            scheme_prefix = filename.split('_')[0]\n",
    "            grouped_files[scheme_prefix].append(filename)\n",
    "    \n",
    "    return grouped_files"
   ]
  },
  {
   "cell_type": "code",
   "execution_count": 3,
   "metadata": {},
   "outputs": [],
   "source": [
    "def generate_character_description(prompt):\n",
    "    \"\"\"\n",
    "    Function to call GPT-4 API and generate a character description based on the given prompt.\n",
    "    \"\"\"\n",
    "    prompt = (\n",
    "        f\"Generate a very brief character description (such as name, age, gender and occupation) for someone who qualifies for this welfare scheme in the Indian context: {prompt}\"\n",
    "    )\n",
    "\n",
    "    response = openai.chat.completions.create(\n",
    "        model=\"gpt-4o\",\n",
    "        messages=[\n",
    "            {\"role\": \"system\", \"content\": \"You are a helpful assistant who has to generate a character description based on the prompt given. ENSURE THAT THE DESCRIPTION IS COMPLIANT WITH OPENAI'S POLICIES AND DOES NOT CONTAIN OFFENSIVE INFORMATION.\"},\n",
    "            {\"role\": \"user\", \"content\": prompt}\n",
    "        ]\n",
    "    )\n",
    "    return response.choices[0].message.content"
   ]
  },
  {
   "cell_type": "code",
   "execution_count": 4,
   "metadata": {},
   "outputs": [],
   "source": [
    "# Generate Character Descriptions\n",
    "\n",
    "def generate_descriptions_for_schemes(prompts_dir):\n",
    "    \"\"\"\n",
    "    Function to generate one character description per welfare scheme by combining all related prompts.\n",
    "    \"\"\"\n",
    "    grouped_files = read_and_group_files(prompts_dir)\n",
    "    descriptions = {}\n",
    "    \n",
    "    for scheme, files in grouped_files.items():\n",
    "        # Combine all prompts for this scheme\n",
    "        combined_prompt = \"\"\n",
    "        for file in files:\n",
    "            with open(os.path.join(prompts_dir, file), 'r') as f:\n",
    "                prompt = f.read().strip()\n",
    "                combined_prompt += f\" {prompt}\"\n",
    "        \n",
    "        # Generate one character description for the combined prompt\n",
    "        description = generate_character_description(combined_prompt.strip())\n",
    "        descriptions[scheme] = description\n",
    "    \n",
    "    return descriptions\n",
    "\n",
    "prompts_dir = \"image_prompts\"\n",
    "descriptions = generate_descriptions_for_schemes(prompts_dir)"
   ]
  },
  {
   "cell_type": "code",
   "execution_count": 5,
   "metadata": {},
   "outputs": [
    {
     "name": "stdout",
     "output_type": "stream",
     "text": [
      "Results saved to image_prompt_context\n"
     ]
    }
   ],
   "source": [
    "def save_results(descriptions, output_dir):\n",
    "    \"\"\"\n",
    "    Function to save generated character descriptions directly to output directory.\n",
    "    \"\"\"\n",
    "    if not os.path.exists(output_dir):\n",
    "        os.makedirs(output_dir)\n",
    "    \n",
    "    for scheme, description in descriptions.items():\n",
    "        output_file = os.path.join(output_dir, f\"{scheme}.txt\")\n",
    "        with open(output_file, 'w') as f:\n",
    "            f.write(description)\n",
    "\n",
    "output_dir = \"image_prompt_context\"\n",
    "save_results(descriptions, output_dir)\n",
    "print(f\"Results saved to {output_dir}\")"
   ]
  }
 ],
 "metadata": {
  "kernelspec": {
   "display_name": "NLPproject",
   "language": "python",
   "name": "python3"
  },
  "language_info": {
   "codemirror_mode": {
    "name": "ipython",
    "version": 3
   },
   "file_extension": ".py",
   "mimetype": "text/x-python",
   "name": "python",
   "nbconvert_exporter": "python",
   "pygments_lexer": "ipython3",
   "version": "3.12.7"
  }
 },
 "nbformat": 4,
 "nbformat_minor": 2
}
