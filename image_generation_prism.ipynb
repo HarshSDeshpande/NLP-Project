{
 "cells": [
  {
   "cell_type": "code",
   "execution_count": null,
   "metadata": {},
   "outputs": [],
   "source": [
    "import os\n",
    "from openai import OpenAI\n",
    "import requests\n",
    "from PIL import Image\n",
    "from io import BytesIO\n",
    "\n",
    "# Set your OpenAI API key\n",
    "os.environ[\"OPENAI_API_KEY\"] = \"your-api-key\""
   ]
  },
  {
   "cell_type": "code",
   "execution_count": 2,
   "metadata": {},
   "outputs": [
    {
     "name": "stdout",
     "output_type": "stream",
     "text": [
      "Generated image for MGNREGA_Beneficiary_and_Problem_Statement.txt\n",
      "Generated image for MGNREGA_Application_Process_and_Benefits.txt\n",
      "Generated image for ABPMJAY_Outcome_and_Impact.txt\n",
      "Generated image for NRLM_Application_Process_and_Benefits.txt\n",
      "Generated image for AAY_Beneficiary_and_Problem_Statement.txt\n",
      "Generated image for NRLM_Beneficiary_and_Problem_Statement.txt\n",
      "Generated image for NRLM_Outcome_and_Impact.txt\n",
      "Generated image for ABPMJAY_Application_Process_and_Benefits.txt\n",
      "Generated image for AAY_Application_Process_and_Benefits.txt\n",
      "Generated image for AAY_Outcome_and_Impact.txt\n",
      "Generated image for ABPMJAY_Beneficiary_and_Problem_Statement.txt\n",
      "Generated image for DDUGKY_Beneficiary_and_Problem_Statement.txt\n",
      "Generated image for DDUGKY_Application_Process_and_Benefits.txt\n",
      "Generated image for MGNREGA_Outcome_and_Impact.txt\n",
      "Generated image for DDUGKY_Outcome_and_Impact.txt\n"
     ]
    }
   ],
   "source": [
    "def generate_image(prompt):\n",
    "    \"\"\"Generate image using DALL-E 3.\"\"\"\n",
    "    client = OpenAI()\n",
    "    response = client.images.generate(\n",
    "        model=\"dall-e-3\",\n",
    "        prompt=prompt,\n",
    "        size=\"1024x1024\",\n",
    "        quality=\"standard\",\n",
    "        n=1\n",
    "    )\n",
    "    image_url = response.data[0].url\n",
    "    return Image.open(BytesIO(requests.get(image_url).content))\n",
    "\n",
    "def generate_images():\n",
    "    prompts_dir = \"image_prompts_prism\"\n",
    "    output_dir = \"images_prism\"\n",
    "    os.makedirs(output_dir, exist_ok=True)\n",
    "\n",
    "    for filename in os.listdir(prompts_dir):\n",
    "        if filename.endswith('.txt'):\n",
    "            with open(os.path.join(prompts_dir, filename), 'r') as f:\n",
    "                prompt = f.read().strip()\n",
    "            \n",
    "            \n",
    "            final_prompt = f\"\"\"Generate a poster for this welfare scheme in the Indian context : {prompt}\n",
    "                             Make it visually appealing with very minimal text\"\"\"\n",
    "            \n",
    "            image = generate_image(final_prompt)\n",
    "            output_filename = filename.replace('.txt', '.png')\n",
    "            image.save(os.path.join(output_dir, output_filename))\n",
    "            print(f\"Generated image for {filename}\")\n",
    "\n",
    "generate_images()"
   ]
  }
 ],
 "metadata": {
  "kernelspec": {
   "display_name": "NLPproject",
   "language": "python",
   "name": "python3"
  },
  "language_info": {
   "codemirror_mode": {
    "name": "ipython",
    "version": 3
   },
   "file_extension": ".py",
   "mimetype": "text/x-python",
   "name": "python",
   "nbconvert_exporter": "python",
   "pygments_lexer": "ipython3",
   "version": "3.12.7"
  }
 },
 "nbformat": 4,
 "nbformat_minor": 2
}
