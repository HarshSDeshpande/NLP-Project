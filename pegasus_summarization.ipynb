{
 "cells": [
  {
   "cell_type": "code",
   "execution_count": null,
   "metadata": {},
   "outputs": [],
   "source": [
    "# Uncomment to install the required package\n",
    "# !pip install transformers\n"
   ]
  },
  {
   "cell_type": "code",
   "execution_count": null,
   "metadata": {},
   "outputs": [],
   "source": [
    "# Load the welfare scheme write-up from a text file\n",
    "file_path = \"welfare_scheme.txt\"  # Ensure the file is in the same directory\n",
    "\n",
    "with open(file_path, \"r\") as file:\n",
    "    write_up = file.read()\n",
    "\n",
    "print(\"Welfare scheme write-up loaded successfully.\")\n"
   ]
  },
  {
   "cell_type": "code",
   "execution_count": null,
   "metadata": {},
   "outputs": [],
   "source": [
    "from transformers import PegasusForConditionalGeneration, PegasusTokenizer\n",
    "import torch\n",
    "\n",
    "# Load the Pegasus tokenizer and model\n",
    "model_name = \"google/pegasus-xsum\"\n",
    "tokenizer = PegasusTokenizer.from_pretrained(model_name)\n",
    "model = PegasusForConditionalGeneration.from_pretrained(model_name)\n"
   ]
  },
  {
   "cell_type": "code",
   "execution_count": null,
   "metadata": {},
   "outputs": [],
   "source": [
    "def get_summary_with_pegasus(write_up: str, prompt_section: str) -> str:\n",
    "    \"\"\"\n",
    "    Summarizes the welfare scheme write-up based on the specified prompt section using Pegasus.\n",
    "\n",
    "    Args:\n",
    "    - write_up (str): Full write-up of the welfare scheme.\n",
    "    - prompt_section (str): The section prompt, e.g., \"Beneficiary and Problem Statement\".\n",
    "\n",
    "    Returns:\n",
    "    - str: The generated summary for the specified section.\n",
    "    \"\"\"\n",
    "    # Customize the prompt for the section\n",
    "    prompt = f\"{prompt_section}: {write_up}\"\n",
    "\n",
    "    # Tokenize the input\n",
    "    inputs = tokenizer(prompt, max_length=1024, truncation=True, return_tensors=\"pt\")\n",
    "\n",
    "    # Generate summary\n",
    "    summary_ids = model.generate(inputs.input_ids, max_length=60, num_beams=5, length_penalty=1.2, early_stopping=True)\n",
    "    summary = tokenizer.decode(summary_ids[0], skip_special_tokens=True)\n",
    "    \n",
    "    return summary\n",
    "\n",
    "def summarize_scheme_with_pegasus(write_up: str) -> dict:\n",
    "    \"\"\"\n",
    "    Generates summaries for each of the three sections using Pegasus:\n",
    "    'Beneficiary and Problem Statement', 'Application Process and Benefits', 'Outcome and Impact'.\n",
    "    \"\"\"\n",
    "    sections = [\n",
    "        \"Beneficiary and Problem Statement\",\n",
    "        \"Application Process and Benefits\",\n",
    "        \"Outcome and Impact\"\n",
    "    ]\n",
    "    \n",
    "    summaries = {}\n",
    "    for section in sections:\n",
    "        summaries[section] = get_summary_with_pegasus(write_up, section)\n",
    "    \n",
    "    return summaries\n"
   ]
  },
  {
   "cell_type": "code",
   "execution_count": null,
   "metadata": {},
   "outputs": [],
   "source": [
    "# Generate summaries\n",
    "summaries = summarize_scheme_with_pegasus(write_up)\n",
    "\n",
    "# Display the summaries\n",
    "for section, summary in summaries.items():\n",
    "    print(f\"{section}:\\n{summary}\\n\")"
   ]
  }
 ],
 "metadata": {
  "language_info": {
   "name": "python"
  }
 },
 "nbformat": 4,
 "nbformat_minor": 2
}
