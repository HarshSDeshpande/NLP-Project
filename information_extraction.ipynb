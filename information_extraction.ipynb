{
 "cells": [
  {
   "cell_type": "code",
   "execution_count": null,
   "metadata": {},
   "outputs": [],
   "source": [
    "import openai\n",
    "from openai import OpenAI\n",
    "import os\n",
    "\n",
    "# Set OpenAI API key (replace \"YOUR_API_KEY\" with your actual key)\n",
    "os.environ[\"OPENAI_API_KEY\"] = \"your_api_key\"\n",
    "openai.api_key = os.getenv(\"OPENAI_API_KEY\")\n",
    "client = OpenAI(\n",
    "  api_key=os.environ['OPENAI_API_KEY'],\n",
    ")\n",
    "\n",
    "def get_summary(write_up: str, prompt_section: str) -> str:\n",
    "    \"\"\"\n",
    "    Summarizes the welfare scheme write-up based on the specified prompt section.\n",
    "\n",
    "    Args:\n",
    "    - write_up (str): Full write-up of the welfare scheme.\n",
    "    - prompt_section (str): The section prompt, e.g., \"Beneficiary and Problem Statement\".\n",
    "\n",
    "    Returns:\n",
    "    - str: The generated summary for the specified section.\n",
    "    \"\"\"\n",
    "    # Define prompt for each section\n",
    "    prompt = f\"Summarize the following welfare scheme description into the section '{prompt_section}':\\n\\n{write_up}\\n\\n\"\n",
    "\n",
    "    response = client.chat.completions.create(\n",
    "        model=\"gpt-4o\",\n",
    "        messages=[\n",
    "            {\"role\": \"user\", \"content\": prompt}]\n",
    "    )\n",
    "    \n",
    "    summary = response.choices[0].message.content\n",
    "    return summary\n",
    "\n",
    "def summarize_scheme_with_openai(write_up: str) -> dict:\n",
    "    \"\"\"\n",
    "    Generates summaries for each of the three sections: \n",
    "    'Beneficiary and Problem Statement', 'Application Process and Benefits', 'Outcome and Impact'.\n",
    "    \"\"\"\n",
    "    sections = [\n",
    "        \"Beneficiary and Problem Statement\",\n",
    "        \"Application Process and Benefits\",\n",
    "        \"Outcome and Impact\"\n",
    "    ]\n",
    "    \n",
    "    summaries = {}\n",
    "    for section in sections:\n",
    "        summaries[section] = get_summary(write_up, section)\n",
    "    \n",
    "    return summaries\n"
   ]
  },
  {
   "cell_type": "code",
   "execution_count": 2,
   "metadata": {},
   "outputs": [
    {
     "name": "stdout",
     "output_type": "stream",
     "text": [
      "Welfare scheme write-up from ABPMJAY.txt loaded successfully.\n",
      "Summary for Beneficiary and Problem Statement saved as ABPMJAY_Beneficiary and Problem Statement.txt.\n",
      "Summary for Application Process and Benefits saved as ABPMJAY_Application Process and Benefits.txt.\n",
      "Summary for Outcome and Impact saved as ABPMJAY_Outcome and Impact.txt.\n",
      "Welfare scheme write-up from AAY.txt loaded successfully.\n",
      "Summary for Beneficiary and Problem Statement saved as AAY_Beneficiary and Problem Statement.txt.\n",
      "Summary for Application Process and Benefits saved as AAY_Application Process and Benefits.txt.\n",
      "Summary for Outcome and Impact saved as AAY_Outcome and Impact.txt.\n",
      "Welfare scheme write-up from DDUGKY.txt loaded successfully.\n",
      "Summary for Beneficiary and Problem Statement saved as DDUGKY_Beneficiary and Problem Statement.txt.\n",
      "Summary for Application Process and Benefits saved as DDUGKY_Application Process and Benefits.txt.\n",
      "Summary for Outcome and Impact saved as DDUGKY_Outcome and Impact.txt.\n",
      "Welfare scheme write-up from MGNREGA.txt loaded successfully.\n",
      "Summary for Beneficiary and Problem Statement saved as MGNREGA_Beneficiary and Problem Statement.txt.\n",
      "Summary for Application Process and Benefits saved as MGNREGA_Application Process and Benefits.txt.\n",
      "Summary for Outcome and Impact saved as MGNREGA_Outcome and Impact.txt.\n",
      "Welfare scheme write-up from NRLM.txt loaded successfully.\n",
      "Summary for Beneficiary and Problem Statement saved as NRLM_Beneficiary and Problem Statement.txt.\n",
      "Summary for Application Process and Benefits saved as NRLM_Application Process and Benefits.txt.\n",
      "Summary for Outcome and Impact saved as NRLM_Outcome and Impact.txt.\n"
     ]
    }
   ],
   "source": [
    "import os\n",
    "\n",
    "input_directory = \"data\"\n",
    "output_directory = \"scheme_writeups_gpt\"\n",
    "\n",
    "os.makedirs(output_directory, exist_ok=True)\n",
    "\n",
    "def summarize_and_save(input_dir, output_dir):\n",
    "    for filename in os.listdir(input_dir):\n",
    "        if filename.endswith(\".txt\"):\n",
    "            file_path = os.path.join(input_dir, filename)\n",
    "            with open(file_path, \"r\") as file:\n",
    "                write_up = file.read()\n",
    "            \n",
    "            print(f\"Welfare scheme write-up from {filename} loaded successfully.\")\n",
    "            \n",
    "            summaries = summarize_scheme_with_openai(write_up)\n",
    "            \n",
    "            for section, summary in summaries.items():\n",
    "                summary_filename = f\"{os.path.splitext(filename)[0]}_{section}.txt\"\n",
    "                summary_file_path = os.path.join(output_dir, summary_filename)\n",
    "                \n",
    "                with open(summary_file_path, \"w\") as summary_file:\n",
    "                    summary_file.write(summary)\n",
    "                \n",
    "                print(f\"Summary for {section} saved as {summary_filename}.\")\n",
    "\n",
    "summarize_and_save(input_directory, output_directory)"
   ]
  },
  {
   "cell_type": "code",
   "execution_count": 3,
   "metadata": {},
   "outputs": [
    {
     "name": "stdout",
     "output_type": "stream",
     "text": [
      "Renamed: \"scheme_writeups_gpt/DDUGKY_Application Process and Benefits.txt\" to \"scheme_writeups_gpt/DDUGKY_Application_Process_and_Benefits.txt\"\n",
      "Renamed: \"scheme_writeups_gpt/MGNREGA_Outcome and Impact.txt\" to \"scheme_writeups_gpt/MGNREGA_Outcome_and_Impact.txt\"\n",
      "Renamed: \"scheme_writeups_gpt/AAY_Beneficiary and Problem Statement.txt\" to \"scheme_writeups_gpt/AAY_Beneficiary_and_Problem_Statement.txt\"\n",
      "Renamed: \"scheme_writeups_gpt/NRLM_Application Process and Benefits.txt\" to \"scheme_writeups_gpt/NRLM_Application_Process_and_Benefits.txt\"\n",
      "Renamed: \"scheme_writeups_gpt/DDUGKY_Outcome and Impact.txt\" to \"scheme_writeups_gpt/DDUGKY_Outcome_and_Impact.txt\"\n",
      "Renamed: \"scheme_writeups_gpt/ABPMJAY_Outcome and Impact.txt\" to \"scheme_writeups_gpt/ABPMJAY_Outcome_and_Impact.txt\"\n",
      "Renamed: \"scheme_writeups_gpt/AAY_Outcome and Impact.txt\" to \"scheme_writeups_gpt/AAY_Outcome_and_Impact.txt\"\n",
      "Renamed: \"scheme_writeups_gpt/ABPMJAY_Application Process and Benefits.txt\" to \"scheme_writeups_gpt/ABPMJAY_Application_Process_and_Benefits.txt\"\n",
      "Renamed: \"scheme_writeups_gpt/AAY_Application Process and Benefits.txt\" to \"scheme_writeups_gpt/AAY_Application_Process_and_Benefits.txt\"\n",
      "Renamed: \"scheme_writeups_gpt/ABPMJAY_Beneficiary and Problem Statement.txt\" to \"scheme_writeups_gpt/ABPMJAY_Beneficiary_and_Problem_Statement.txt\"\n",
      "Renamed: \"scheme_writeups_gpt/DDUGKY_Beneficiary and Problem Statement.txt\" to \"scheme_writeups_gpt/DDUGKY_Beneficiary_and_Problem_Statement.txt\"\n",
      "Renamed: \"scheme_writeups_gpt/MGNREGA_Beneficiary and Problem Statement.txt\" to \"scheme_writeups_gpt/MGNREGA_Beneficiary_and_Problem_Statement.txt\"\n",
      "Renamed: \"scheme_writeups_gpt/MGNREGA_Application Process and Benefits.txt\" to \"scheme_writeups_gpt/MGNREGA_Application_Process_and_Benefits.txt\"\n",
      "Renamed: \"scheme_writeups_gpt/NRLM_Beneficiary and Problem Statement.txt\" to \"scheme_writeups_gpt/NRLM_Beneficiary_and_Problem_Statement.txt\"\n",
      "Renamed: \"scheme_writeups_gpt/NRLM_Outcome and Impact.txt\" to \"scheme_writeups_gpt/NRLM_Outcome_and_Impact.txt\"\n"
     ]
    }
   ],
   "source": [
    "import os\n",
    "\n",
    "directory = 'scheme_writeups_gpt' \n",
    "\n",
    "for filename in os.listdir(directory):\n",
    "    new_filename = filename.replace(' ', '_')\n",
    "    \n",
    "    old_file = os.path.join(directory, filename)\n",
    "    new_file = os.path.join(directory, new_filename)\n",
    "    \n",
    "    if old_file != new_file:\n",
    "        os.rename(old_file, new_file)\n",
    "        print(f'Renamed: \"{old_file}\" to \"{new_file}\"')"
   ]
  }
 ],
 "metadata": {
  "kernelspec": {
   "display_name": "NLPproject",
   "language": "python",
   "name": "python3"
  },
  "language_info": {
   "codemirror_mode": {
    "name": "ipython",
    "version": 3
   },
   "file_extension": ".py",
   "mimetype": "text/x-python",
   "name": "python",
   "nbconvert_exporter": "python",
   "pygments_lexer": "ipython3",
   "version": "3.12.7"
  }
 },
 "nbformat": 4,
 "nbformat_minor": 2
}
