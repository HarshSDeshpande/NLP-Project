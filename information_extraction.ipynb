{
 "cells": [
  {
   "cell_type": "code",
   "execution_count": 62,
   "metadata": {},
   "outputs": [
    {
     "name": "stdout",
     "output_type": "stream",
     "text": [
      "Welfare scheme write-up loaded successfully.\n"
     ]
    }
   ],
   "source": [
    "# Load the welfare scheme write-up from a text file\n",
    "file_path = \"AAY.txt\"  # Ensure the file is in the same directory\n",
    "\n",
    "with open(file_path, \"r\") as file:\n",
    "    write_up = file.read()\n",
    "\n",
    "print(\"Welfare scheme write-up loaded successfully.\")\n"
   ]
  },
  {
   "cell_type": "code",
   "execution_count": null,
   "metadata": {},
   "outputs": [],
   "source": [
    "import openai\n",
    "from openai import OpenAI\n",
    "import os\n",
    "\n",
    "# Set OpenAI API key (replace \"YOUR_API_KEY\" with your actual key)\n",
    "os.environ[\"OPENAI_API_KEY\"] = \"your_api_key\"\n",
    "openai.api_key = os.getenv(\"OPENAI_API_KEY\")  # Use environment variable or directly set API key\n",
    "client = OpenAI(\n",
    "  api_key=os.environ['OPENAI_API_KEY'],  # this is also the default, it can be omitted\n",
    ")\n",
    "\n",
    "def get_summary(write_up: str, prompt_section: str) -> str:\n",
    "    \"\"\"\n",
    "    Summarizes the welfare scheme write-up based on the specified prompt section.\n",
    "\n",
    "    Args:\n",
    "    - write_up (str): Full write-up of the welfare scheme.\n",
    "    - prompt_section (str): The section prompt, e.g., \"Beneficiary and Problem Statement\".\n",
    "\n",
    "    Returns:\n",
    "    - str: The generated summary for the specified section.\n",
    "    \"\"\"\n",
    "    # Define prompt for each section\n",
    "    prompt = f\"Summarize the following welfare scheme description into the section '{prompt_section}':\\n\\n{write_up}\\n\\n\"\n",
    "\n",
    "    response = client.chat.completions.create(\n",
    "        model=\"davinci-002\",\n",
    "        messages=[\n",
    "            {\"role\": \"user\", \"content\": prompt}]\n",
    "    )\n",
    "    \n",
    "    summary = response.choices[0].message.content\n",
    "    return summary\n",
    "\n",
    "def summarize_scheme_with_openai(write_up: str) -> dict:\n",
    "    \"\"\"\n",
    "    Generates summaries for each of the three sections: \n",
    "    'Beneficiary and Problem Statement', 'Application Process and Benefits', 'Outcome and Impact'.\n",
    "    \"\"\"\n",
    "    sections = [\n",
    "        \"Beneficiary and Problem Statement\",\n",
    "        \"Application Process and Benefits\",\n",
    "        \"Outcome and Impact\"\n",
    "    ]\n",
    "    \n",
    "    summaries = {}\n",
    "    for section in sections:\n",
    "        summaries[section] = get_summary(write_up, section)\n",
    "    \n",
    "    return summaries\n"
   ]
  },
  {
   "cell_type": "code",
   "execution_count": 84,
   "metadata": {},
   "outputs": [
    {
     "name": "stdout",
     "output_type": "stream",
     "text": [
      "Beneficiary and Problem Statement:\n",
      "**Beneficiary and Problem Statement:**\n",
      "\n",
      "The Antyodaya Anna Yojana (AAY) targets one crore of the poorest families in India, specifically those classified as Below Poverty Line (BPL) with an annual income not exceeding ₹15,000. Priority is given to marginalized groups, including Scheduled Castes (SCs), Scheduled Tribes (STs), landless agricultural laborers, manual scavengers, small and marginal farmers, destitute widows, and individuals with disabilities. The scheme aims to address food insecurity and hunger among these vulnerable populations by providing highly subsidized food grains (wheat, rice, and coarse grains) to improve their nutritional standards and alleviate financial burdens related to food purchases. Key challenges include a lack of awareness about the scheme, corruption in distribution, and concerns over the quality of food grains, which can hinder the effective delivery of benefits to the intended recipients.\n",
      "\n",
      "Application Process and Benefits:\n",
      "### Application Process and Benefits\n",
      "\n",
      "The Antyodaya Anna Yojana (AAY) is designed to assist the poorest households in India by providing subsidized food grains through the Public Distribution System (PDS). To apply for benefits under AAY, families must be identified as Below Poverty Line (BPL) with an annual income not exceeding ₹15,000. Special priority is given to marginalized groups, including Scheduled Castes (SC), Scheduled Tribes (ST), landless agricultural laborers, and other vulnerable populations. \n",
      "\n",
      "Beneficiaries receive essential food grains at highly subsidized rates: wheat at ₹2 per kg, rice at ₹3 per kg, and coarse grains at ₹1 per kg, with a monthly allocation of up to 35 kg per eligible household. This support not only improves nutritional levels among low-income families but also alleviates financial burdens associated with food purchases, enabling families to invest in other essential needs. Overall, AAY plays a significant role in reducing hunger and malnutrition, contributing to better health outcomes for disadvantaged communities in India.\n",
      "\n",
      "Outcome and Impact:\n",
      "### Outcome and Impact\n",
      "\n",
      "The Antyodaya Anna Yojana (AAY) has significantly contributed to enhancing food security among the poorest households in India by providing essential food grains at highly subsidized rates. The scheme effectively targets one crore of the most vulnerable families, ensuring they receive a monthly allocation of up to 35 kg of food grains. This has led to improved nutritional levels, reduced hunger, and decreased malnutrition, particularly among children. AAY alleviates the financial burden on low-income families, allowing them to better allocate resources for other essential needs.\n",
      "\n",
      "Despite its successes, the scheme faces challenges such as lack of awareness among eligible households, corruption in the distribution process, and concerns about the quality of the food grains provided. Addressing these challenges is crucial for maximizing AAY’s impact on food security and overall well-being in India. Continued efforts to improve transparency and increase outreach will enhance the scheme's effectiveness in alleviating poverty and ensuring a hunger-free environment.\n",
      "\n"
     ]
    }
   ],
   "source": [
    "# Generate summaries\n",
    "summaries = summarize_scheme_with_openai(write_up)\n",
    "\n",
    "# Display the summaries\n",
    "for section, summary in summaries.items():\n",
    "    print(f\"{section}:\\n{summary}\\n\")"
   ]
  }
 ],
 "metadata": {
  "kernelspec": {
   "display_name": "NLPproject",
   "language": "python",
   "name": "python3"
  },
  "language_info": {
   "codemirror_mode": {
    "name": "ipython",
    "version": 3
   },
   "file_extension": ".py",
   "mimetype": "text/x-python",
   "name": "python",
   "nbconvert_exporter": "python",
   "pygments_lexer": "ipython3",
   "version": "3.12.7"
  }
 },
 "nbformat": 4,
 "nbformat_minor": 2
}
